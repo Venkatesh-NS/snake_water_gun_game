{
 "cells": [
  {
   "cell_type": "markdown",
   "metadata": {},
   "source": [
    "## Snake water gun game"
   ]
  },
  {
   "cell_type": "markdown",
   "metadata": {},
   "source": [
    "- Rules\n",
    "1. In snake water gun game logic is that, \n",
    "    - sanke will win aganist water but not gun\n",
    "    - water will win aganist gun but not snake\n",
    "    - gun  will win aganist snake but not water\n",
    "2. First chance will be of computers and you need to input your choise snake=s, water=w, gun=g\n",
    "3. if you won it will display you are the winner,looser and tied\n"
   ]
  },
  {
   "cell_type": "code",
   "execution_count": 4,
   "metadata": {},
   "outputs": [
    {
     "name": "stdout",
     "output_type": "stream",
     "text": [
      "game started first turn is computer's\n",
      "computer turn done from s= snake, w= water, g=gun\n",
      "your turn please select  s= snake, w= water, g=gun: g\n",
      "computer selected:  w\n",
      "you selected:  g\n",
      "you lost 'GAME OVER'\n"
     ]
    }
   ],
   "source": [
    "import random\n",
    "\n",
    "def snake_game(comp, you):\n",
    "  if comp==you:\n",
    "    return None\n",
    "  elif comp=='s':\n",
    "    if you=='g':\n",
    "      return True\n",
    "    elif you=='w':\n",
    "      return False\n",
    "  elif comp=='g':\n",
    "    if you=='w':\n",
    "      return True\n",
    "    elif you=='s':\n",
    "      return False\n",
    "  elif comp=='w':\n",
    "    if you=='s':\n",
    "      return True\n",
    "    elif you=='g':\n",
    "      return False\n",
    "print(\"game started first turn is computer's\")\n",
    "print(\"computer turn done from s= snake, w= water, g=gun\")\n",
    "compt=random.randint(1,3)\n",
    "if compt==1:\n",
    "  comp=\"s\"\n",
    "elif compt==2:\n",
    " comp=\"g\"\n",
    "elif compt==3:\n",
    "  comp=\"w\"\n",
    "\n",
    "you=input(\"your turn please select  s= snake, w= water, g=gun: \")\n",
    "if you==\"s\"or you=='w' or you=='g':\n",
    "  abc=snake_game (comp,you)\n",
    "  print(\"computer selected: \", comp)\n",
    "  print(\"you selected: \", you)\n",
    "  if abc==None:\n",
    "    print(\"math draw run again\")\n",
    "\n",
    "  elif abc:\n",
    "    print(\"you won\")\n",
    "  else:\n",
    "    print(\"you lost 'GAME OVER'\" )\n",
    "else:\n",
    "  print(\"INVALID INPUT, please select only s= snake, w= water, g=gun\")\n"
   ]
  }
 ],
 "metadata": {
  "kernelspec": {
   "display_name": "Python 3",
   "language": "python",
   "name": "python3"
  },
  "language_info": {
   "codemirror_mode": {
    "name": "ipython",
    "version": 3
   },
   "file_extension": ".py",
   "mimetype": "text/x-python",
   "name": "python",
   "nbconvert_exporter": "python",
   "pygments_lexer": "ipython3",
   "version": "3.7.4"
  }
 },
 "nbformat": 4,
 "nbformat_minor": 2
}
