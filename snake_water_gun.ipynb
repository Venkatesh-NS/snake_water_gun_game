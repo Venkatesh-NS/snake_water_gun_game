#snake,water, gun game
import random

def snake_game(comp, you):
  if comp==you:
    return None
  elif comp=='s':
    if you=='g':
      return True
    elif you=='w':
      return False
  elif comp=='g':
    if you=='w':
      return True
    elif you=='s':
      return False
  elif comp=='w':
    if you=='s':
      return True
    elif you=='g':
      return False
print("game started first turn is computer's")
print("computer turn done from s= snake, w= water, g=gun")
compt=random.randint(1,3)
if compt==1:
  comp="s"
elif compt==2:
 comp="g"
elif compt==3:
  comp="w"

you=input("your turn please select  s= snake, w= water, g=gun: ")
if you=="s"or you=='w' or you=='g':
  abc=snake_game (comp,you)
  print("computer selected: ", comp)
  print("you selected: ", you)
  if abc==None:
    print("math draw run again")

  elif abc:
    print("you won")
  else:
    print("you lost 'GAME OVER'" )
else:
  print("INVALID INPUT, please select only s= snake, w= water, g=gun")
